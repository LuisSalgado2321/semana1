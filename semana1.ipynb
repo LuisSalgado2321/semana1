{
  "nbformat": 4,
  "nbformat_minor": 0,
  "metadata": {
    "colab": {
      "provenance": [],
      "authorship_tag": "ABX9TyNyPOh4SeuReAqptHZ6kxYB",
      "include_colab_link": true
    },
    "kernelspec": {
      "name": "python3",
      "display_name": "Python 3"
    },
    "language_info": {
      "name": "python"
    }
  },
  "cells": [
    {
      "cell_type": "markdown",
      "metadata": {
        "id": "view-in-github",
        "colab_type": "text"
      },
      "source": [
        "<a href=\"https://colab.research.google.com/github/LuisSalgado2321/semana1/blob/main/semana1.ipynb\" target=\"_parent\"><img src=\"https://colab.research.google.com/assets/colab-badge.svg\" alt=\"Open In Colab\"/></a>"
      ]
    },
    {
      "cell_type": "code",
      "source": [
        "# 1. Variables y tipos de datos\n",
        "nombre_estudiante = \"Juan Pérez\"\n",
        "edad = 20\n",
        "promedio = 4.2\n",
        "es_regular = True\n",
        "# 2. La función print() para mostrar información\n",
        "print(\"Datos del Estudiante:\")\n",
        "print(\"Nombre:\", nombre_estudiante)\n",
        "print(f\"Edad: {edad} años\") # Usando f-strings, una forma moderna y útil\n",
        "# 3. La función input() para recibir datos del usuario\n",
        "asignatura_favorita = input(\"¿Cuál es tu asignatura favorita? \")\n",
        "print(f\"¡Qué bien! Tu asignatura favorita es {asignatura_favorita}.\")"
      ],
      "metadata": {
        "colab": {
          "base_uri": "https://localhost:8080/"
        },
        "id": "qp3Bp8Za_-fZ",
        "outputId": "8208ec1e-eb32-4379-a1b1-9a66b4387550"
      },
      "execution_count": 6,
      "outputs": [
        {
          "output_type": "stream",
          "name": "stdout",
          "text": [
            "Datos del Estudiante:\n",
            "Nombre: Juan Pérez\n",
            "Edad: 20 años\n",
            "¿Cuál es tu asignatura favorita? ed.fisica\n",
            "¡Qué bien! Tu asignatura favorita es ed.fisica.\n"
          ]
        }
      ]
    },
    {
      "cell_type": "code",
      "source": [],
      "metadata": {
        "id": "LbC47_dsB9_z"
      },
      "execution_count": null,
      "outputs": []
    },
    {
      "cell_type": "code",
      "metadata": {
        "colab": {
          "base_uri": "https://localhost:8080/"
        },
        "id": "dQ3T97e4c_27",
        "outputId": "e7115409-97d7-4a3f-8077-a9ec45bd23f3"
      },
      "source": [
        "# Definimos dos números como variables\n",
        "numero1 = 10\n",
        "numero2 = 5\n",
        "\n",
        "# Realizamos la operación de suma\n",
        "suma = numero1 + numero2\n",
        "# Imprimimos el resultado de la suma\n",
        "print(f\"La suma de {numero1} y {numero2} es: {suma}\")\n",
        "\n",
        "# Realizamos la operación de resta\n",
        "resta = numero1 - numero2\n",
        "# Imprimimos el resultado de la resta\n",
        "print(f\"La resta de {numero1} y {numero2} es: {resta}\")\n",
        "\n",
        "# Realizamos la operación de multiplicación\n",
        "multiplicacion = numero1 * numero2\n",
        "# Imprimimos el resultado de la multiplicación\n",
        "print(f\"La multiplicación de {numero1} y {numero2} es: {multiplicacion}\")\n",
        "\n",
        "# Realizamos la operación de división\n",
        "# Aseguramos que no dividimos por cero antes de realizar la división\n",
        "if numero2 != 0:\n",
        "  division = numero1 / numero2\n",
        "  # Imprimimos el resultado de la división\n",
        "  print(f\"La división de {numero1} entre {numero2} es: {division}\")\n",
        "else:\n",
        "  # Imprimimos un mensaje de error si el divisor es cero\n",
        "  print(\"No se puede dividir por cero.\")"
      ],
      "execution_count": 7,
      "outputs": [
        {
          "output_type": "stream",
          "name": "stdout",
          "text": [
            "La suma de 10 y 5 es: 15\n",
            "La resta de 10 y 5 es: 5\n",
            "La multiplicación de 10 y 5 es: 50\n",
            "La división de 10 entre 5 es: 2.0\n"
          ]
        }
      ]
    }
  ]
}